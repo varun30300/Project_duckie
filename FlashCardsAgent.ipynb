{
 "cells": [
  {
   "cell_type": "code",
   "execution_count": 2,
   "id": "61cf41f2-1f59-49cb-9189-b6123e81cc99",
   "metadata": {},
   "outputs": [],
   "source": [
    "from langchain_core.prompts import ChatPromptTemplate\n",
    "from langchain.agents import create_tool_calling_agent\n",
    "from langchain.agents import AgentExecutor\n"
   ]
  },
  {
   "cell_type": "code",
   "execution_count": 4,
   "id": "aaaa624b-f1fd-4c17-9aa5-5236cc015093",
   "metadata": {},
   "outputs": [
    {
     "name": "stderr",
     "output_type": "stream",
     "text": [
      "100%|████████████████████████████████████████████████████████████████████████████████████| 2/2 [00:00<00:00, 22.91it/s]\n"
     ]
    },
    {
     "name": "stdout",
     "output_type": "stream",
     "text": [
      "Number of file/s : 2\n",
      "File 1 - magnets.txt\n",
      "File 2 - pens.txt\n"
     ]
    }
   ],
   "source": [
    "%run Toolkit.ipynb"
   ]
  },
  {
   "cell_type": "code",
   "execution_count": 7,
   "id": "8dfa3880-4c20-4179-a496-33ae29c2b0c5",
   "metadata": {},
   "outputs": [],
   "source": [
    "from langchain_openai import ChatOpenAI\n",
    "from langchain_core.pydantic_v1 import BaseModel, Field\n",
    "from typing import Dict\n",
    "import json\n",
    "from langchain_core.agents import AgentActionMessageLog, AgentFinish\n",
    "from langchain.agents.format_scratchpad import format_to_openai_function_messages\n",
    "\n",
    "class FlashCardResponse(BaseModel):\n",
    "    note: str = Field(description=\"A message to the user\")\n",
    "    flashcards: Dict[str, str] = Field(description=\"A dictionary of flashcards where key is the question and value is the answer\")\n",
    "\n",
    "def flashCardsAgent(human_text, verbose):\n",
    "    # return (\"Initialting Convo Agent\")\n",
    "    prompt = ChatPromptTemplate.from_messages(\n",
    "        [\n",
    "            (\"system\", '''You are an AI assistent who helps student study, student will only ask you to create Flash cards \n",
    "                        on a either a specific topic or a broad topic. You will prepared those flash cards in a json format. \n",
    "                        You will create upto 20 flash cards unless an exact number is specified by the used. If the user did \n",
    "                        not specify the exact number of cards then you will create upto 20 flash cards and attach a note in the \n",
    "                        json that informs the user that they arfe specify the exact number if they want. \n",
    "                        \n",
    "                     \n",
    "                        \n",
    "                        \n",
    "            '''),\n",
    "            (\"placeholder\", \"{chat_history}\"),\n",
    "            (\"human\", \"{input}\"),\n",
    "            (\"placeholder\", \"{agent_scratchpad}\"),\n",
    "        ]\n",
    "    )\n",
    "\n",
    "\n",
    "    class Response(BaseModel):\n",
    "        \"\"\"Final response to the question being asked\"\"\"\n",
    "        note: str = Field(description=\"A message to the user\")\n",
    "        flashcards: Dict[str, str] = Field(description=\"A dictionary of flashcards where key is the question and value is the answer\")\n",
    "\n",
    "    def parse(output):\n",
    "    # If no function was invoked, return to user\n",
    "        if \"function_call\" not in output.additional_kwargs:\n",
    "            return AgentFinish(return_values={\"output\": output.content}, log=output.content)\n",
    "    \n",
    "        # Parse out the function call\n",
    "        function_call = output.additional_kwargs[\"function_call\"]\n",
    "        name = function_call[\"name\"]\n",
    "        inputs = json.loads(function_call[\"arguments\"])\n",
    "    \n",
    "        # If the Response function was invoked, return to the user with the function inputs\n",
    "        if name == \"Response\":\n",
    "            return AgentFinish(return_values=inputs, log=str(function_call))\n",
    "        # Otherwise, return an agent action\n",
    "        else:\n",
    "            return AgentActionMessageLog(\n",
    "                tool=name, tool_input=inputs, log=\"\", message_log=[output]\n",
    "        )\n",
    "\n",
    "    \n",
    "    chat_model_flashcard = ChatOpenAI(model = \"gpt-4-turbo\")\n",
    "    llm_with_tools = chat_model_flashcard.bind_functions([retriever_tool, Response])\n",
    "    # agent = create_tool_calling_agent(chat_model_flashcard, tools, prompt)\n",
    "    agent = (\n",
    "        {\n",
    "            \"input\": lambda x: x[\"input\"],\n",
    "            # Format agent scratchpad from intermediate steps\n",
    "            \"agent_scratchpad\": lambda x: format_to_openai_function_messages(\n",
    "                x[\"intermediate_steps\"]\n",
    "            ),\n",
    "        }\n",
    "        | prompt\n",
    "        | llm_with_tools\n",
    "        | parse\n",
    "    )\n",
    "    if verbose :  \n",
    "        agent_executor = AgentExecutor(agent=agent, tools=[retriever_tool], verbose=True)\n",
    "    else : \n",
    "        agent_executor = AgentExecutor(agent=agent, tools=[retriever_tool], verbose=False)\n",
    "    result = agent_executor.invoke({\"input\": human_text}, return_only_outputs=True )\n",
    "    return result"
   ]
  },
  {
   "cell_type": "code",
   "execution_count": null,
   "id": "649ce12f-caea-469e-ae29-134c4704da99",
   "metadata": {},
   "outputs": [],
   "source": [
    "   # The format of your output will be as defined between < >  \n",
    "                        \n",
    "                        # <\n",
    "                        # flashCardsAgentOutput = \n",
    "                        #     note : This will contain note for the user, it can remain empty if needed,\n",
    "                        #     flashCareds : \n",
    "                        #         question1 : answer1, \n",
    "                        #         question2 : answer2\n",
    "                        #         ..... and so on \n",
    "                        # >"
   ]
  }
 ],
 "metadata": {
  "kernelspec": {
   "display_name": "Python 3 (ipykernel)",
   "language": "python",
   "name": "python3"
  },
  "language_info": {
   "codemirror_mode": {
    "name": "ipython",
    "version": 3
   },
   "file_extension": ".py",
   "mimetype": "text/x-python",
   "name": "python",
   "nbconvert_exporter": "python",
   "pygments_lexer": "ipython3",
   "version": "3.11.4"
  }
 },
 "nbformat": 4,
 "nbformat_minor": 5
}
