{
 "cells": [
  {
   "cell_type": "code",
   "execution_count": 4,
   "id": "9131ce41-419b-4dae-acb3-b8f626746860",
   "metadata": {},
   "outputs": [],
   "source": [
    "def classifyHumanTextType(human_text) : \n",
    "    chat_prompt = ChatPromptTemplate.from_messages(\n",
    "        [\n",
    "            (\"system\", '''You are a helpful AI bot. You read the human text and classify the type of the text.\n",
    "            \n",
    "                            Types of human text can be - CreateConvo, CreateFlashCards. \n",
    "                            \n",
    "                            Definition of each type is, \n",
    "                            \n",
    "                            CreateConvo : If the human text is asking a question and the only acceptable output is an answer to that question \n",
    "                                       or if the human is asking for an explanation or for an elaloration of a specific or a broad topic\n",
    "                                       then the human is supposed to be classified as CreateConvo. \n",
    "                                       \n",
    "                            CreateFlashCards : If the human text is asking for an action and the action asked is to create flash cards \n",
    "                                       for revision or exam preperation, then the human text is supposed to be classified as CreateFlashCards.\n",
    "                            \n",
    "                        '''\n",
    "            ),\n",
    "            (\"human\", \"What is magnitism ?\"),\n",
    "            (\"ai\", \"CreateConvo\"),\n",
    "            (\"human\", \"Can you explain me photosynthesis.\"),\n",
    "            (\"ai\", \"CreateConvo\"),\n",
    "            (\"human\", \"Can you create flash card for my revision.\"),\n",
    "            (\"ai\", \"CreateFlashCards\"),\n",
    "            (\"human\", \"Explain Apple. \"),\n",
    "            (\"ai\", \"CreateConvo\"),\n",
    "            (\"human\", \"Can you elaborate on how does magnets work\"),\n",
    "            (\"ai\", \"CreateConvo\"),\n",
    "            (\"human\", \"Can you summarize the topic 'Functions' please.\"),\n",
    "            (\"ai\", \"CreateConvo\"),\n",
    "            (\"human\", \"{text}\"),\n",
    "        ]\n",
    "    )\n",
    "    request = chat_prompt.format_prompt(text=human_text).to_messages()\n",
    "    result = chat_model.invoke(request)\n",
    "    print(\"classifyHumanTextType return == \", result)\n",
    "    return result"
   ]
  },
  {
   "cell_type": "code",
   "execution_count": null,
   "id": "f32dfbe3-3639-4eb3-93cb-b63bffe167ba",
   "metadata": {},
   "outputs": [],
   "source": []
  }
 ],
 "metadata": {
  "kernelspec": {
   "display_name": "Python 3 (ipykernel)",
   "language": "python",
   "name": "python3"
  },
  "language_info": {
   "codemirror_mode": {
    "name": "ipython",
    "version": 3
   },
   "file_extension": ".py",
   "mimetype": "text/x-python",
   "name": "python",
   "nbconvert_exporter": "python",
   "pygments_lexer": "ipython3",
   "version": "3.11.4"
  }
 },
 "nbformat": 4,
 "nbformat_minor": 5
}
