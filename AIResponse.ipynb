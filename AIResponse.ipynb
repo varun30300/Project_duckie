{
 "cells": [
  {
   "cell_type": "code",
   "execution_count": 1,
   "id": "b773261f-94c9-4c03-9f12-4401f6cfcfe6",
   "metadata": {},
   "outputs": [],
   "source": [
    "def getAIResponse(human_text,verbose):\n",
    "    human_text_classification = classifyHumanTextType(human_text)\n",
    "\n",
    "    if human_text_classification.content == \"CreateConvo\" : \n",
    "        %run ConvoAgent.ipynb\n",
    "        return convoAgent(human_text, verbose)\n",
    "\n",
    "    elif human_text_classification.content == \"CreateFlashCards\" : \n",
    "        %run FlashCardsAgent.ipynb\n",
    "        return flashCardsAgent(human_text, verbose)\n",
    "    else :\n",
    "        return \"Unknown human text type\" "
   ]
  },
  {
   "cell_type": "code",
   "execution_count": null,
   "id": "cd54dca1-a9fb-46ae-abab-a66283f96204",
   "metadata": {},
   "outputs": [],
   "source": []
  }
 ],
 "metadata": {
  "kernelspec": {
   "display_name": "Python 3 (ipykernel)",
   "language": "python",
   "name": "python3"
  },
  "language_info": {
   "codemirror_mode": {
    "name": "ipython",
    "version": 3
   },
   "file_extension": ".py",
   "mimetype": "text/x-python",
   "name": "python",
   "nbconvert_exporter": "python",
   "pygments_lexer": "ipython3",
   "version": "3.11.4"
  }
 },
 "nbformat": 4,
 "nbformat_minor": 5
}
