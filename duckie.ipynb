{
 "cells": [
  {
   "cell_type": "code",
   "execution_count": 1,
   "id": "f89c02c3-f325-44bf-8522-521aef17cde6",
   "metadata": {},
   "outputs": [],
   "source": [
    "# Loading getAIResponse\n",
    "%run AIResponse.ipynb\n",
    "%run Imports.ipynb"
   ]
  },
  {
   "cell_type": "code",
   "execution_count": 2,
   "id": "cf470343-dd63-4b04-82f7-6bdbb1610ee4",
   "metadata": {},
   "outputs": [],
   "source": [
    "from langchain_openai import ChatOpenAI\n",
    "chat_model = ChatOpenAI(model = \"gpt-4-turbo\")"
   ]
  },
  {
   "cell_type": "code",
   "execution_count": 3,
   "id": "68776bee-ed89-465f-932d-c7a54796383d",
   "metadata": {},
   "outputs": [],
   "source": [
    "# Give me 10 flashcards on the topic pens "
   ]
  },
  {
   "cell_type": "code",
   "execution_count": 4,
   "id": "af3756be-a7ff-4869-b4c2-5fa9a2660fd8",
   "metadata": {},
   "outputs": [
    {
     "name": "stdin",
     "output_type": "stream",
     "text": [
      "Human Text : What is the importance of a pen, i need 11 points \n"
     ]
    }
   ],
   "source": [
    "human_text = input(\"Human Text :\")"
   ]
  },
  {
   "cell_type": "code",
   "execution_count": 5,
   "id": "627663b5-0a20-429b-b254-77db574c9823",
   "metadata": {},
   "outputs": [
    {
     "name": "stdout",
     "output_type": "stream",
     "text": [
      "classifyHumanTextType return ==  content='CreateConvo' response_metadata={'token_usage': {'completion_tokens': 3, 'prompt_tokens': 298, 'total_tokens': 301}, 'model_name': 'gpt-4-turbo', 'system_fingerprint': 'fp_294de9593d', 'finish_reason': 'stop', 'logprobs': None} id='run-713c6543-b22e-497d-9550-991c9afa1c56-0'\n"
     ]
    },
    {
     "name": "stderr",
     "output_type": "stream",
     "text": [
      "100%|████████████████████████████████████████████████████████████████████████████████████| 1/1 [00:03<00:00,  3.60s/it]\n"
     ]
    },
    {
     "name": "stdout",
     "output_type": "stream",
     "text": [
      "Number of file/s : 1\n",
      "File 1 - pens.txt\n",
      "\n",
      "\n",
      "\u001b[1m> Entering new AgentExecutor chain...\u001b[0m\n",
      "\u001b[32;1m\u001b[1;3m\n",
      "Invoking: `full_directory` with `{'query': 'importance of a pen'}`\n",
      "\n",
      "\n",
      "\u001b[0m\u001b[36;1m\u001b[1;3mConclusion: In conclusion, pens are more than mere writing instruments; they are symbols of human ingenuity, creativity, and cultural heritage. From ancient times to the present day, pens have endured as steadfast companions on humanity's journey of discovery and expression. As we navigate an ever-changing world, let us not forget the timeless elegance of pens and the profound impact they continue to have on our lives. In an age of rapid technological advancement, may we continue to cherish the simple pleasure of putting pen to paper and letting our thoughts flow freely.\n",
      "\n",
      "Cultural Significance: Pens have played a central role in shaping cultures and civilizations across the globe. In ancient Egypt, scribes meticulously inscribed hieroglyphics on scrolls using reed pens, while medieval monks painstakingly copied manuscripts with quills. In East Asian cultures, calligraphy with brush pens is revered as both an art form and a spiritual practice. Even today, pens are often imbued with personal and cultural significance, passed down as heirlooms or gifted on special occasions. They symbolize creativity, intellect, and the power of written expression, transcending linguistic and cultural barriers.\n",
      "\n",
      "Enduring Relevance: In an era dominated by digital technology, some may question the relevance of pens. Yet, pens continue to thrive, defying the march of progress with their timeless appeal. The act of writing with a pen engages multiple senses, fostering deeper connections between the writer and the written word. Studies have shown that writing by hand enhances cognitive processes such as comprehension and memory, making pens indispensable tools for students and professionals alike. Furthermore, the tactile experience of pen on paper offers a respite from the relentless pace of the digital world, allowing individuals to slow down and reflect in an increasingly fast-paced society.\n",
      "\n",
      "Title: The Timeless Elegance of Pens: A Tribute to an Iconic Writing Instrument\n",
      "\n",
      "Introduction: Pens, humble yet indispensable, have been the silent companions of humanity's journey through history. From ancient civilizations etching symbols on papyrus to modern scholars jotting down notes in digital notebooks, pens have been the conduit through which ideas flow and knowledge is preserved. In this essay, we delve into the enduring significance of pens, exploring their evolution, cultural impact, and enduring relevance in an increasingly digital world.\u001b[0m\u001b[32;1m\u001b[1;3mThe importance of a pen can be highlighted in several key points:\n",
      "\n",
      "1. **Conduit of Ideas**: Pens have historically been the primary tool for recording and sharing ideas, facilitating the flow of knowledge and information.\n",
      "\n",
      "2. **Cultural Significance**: Pens have shaped cultures and civilizations, from ancient Egyptians using reed pens for hieroglyphics to monks in the Middle Ages using quills for manuscripts.\n",
      "\n",
      "3. **Art and Expression**: In many cultures, such as East Asian, pens are used in calligraphy, which is both a revered art form and a spiritual practice.\n",
      "\n",
      "4. **Enduring Relevance**: Despite digital advancements, pens remain relevant due to their unique ability to engage senses and connect the writer more deeply with their words.\n",
      "\n",
      "5. **Cognitive Benefits**: Writing by hand with a pen enhances cognitive processes like comprehension and memory, making it crucial for educational and professional settings.\n",
      "\n",
      "6. **Tactile Experience**: The physical act of writing with a pen on paper provides a sensory experience that digital devices cannot replicate.\n",
      "\n",
      "7. **Slow and Reflective**: Using a pen allows individuals to slow down, fostering a reflective and thoughtful writing process.\n",
      "\n",
      "8. **Personal and Cultural Symbolism**: Pens often carry personal and cultural significance, being passed as heirlooms or gifted during special occasions, symbolizing creativity and intellect.\n",
      "\n",
      "9. **Reliability**: Pens are reliable tools that do not require batteries or electricity, making them handy in various situations.\n",
      "\n",
      "10. **Accessibility**: Pens are generally affordable and accessible to people of all ages and backgrounds, making writing an inclusive activity.\n",
      "\n",
      "11. **Legacy and Tradition**: Pens help preserve the legacy of handwriting and the tradition of personal, handwritten notes, which hold sentimental value in many societies.\n",
      "\n",
      "These points illustrate the multifaceted importance of pens as tools for writing, expression, and cultural heritage.\u001b[0m\n",
      "\n",
      "\u001b[1m> Finished chain.\u001b[0m\n"
     ]
    }
   ],
   "source": [
    "human_text_response = getAIResponse(human_text, True)"
   ]
  },
  {
   "cell_type": "code",
   "execution_count": 6,
   "id": "ebb40430-11b3-4d39-af10-b3cad58573e2",
   "metadata": {},
   "outputs": [
    {
     "name": "stdout",
     "output_type": "stream",
     "text": [
      "The importance of a pen can be highlighted in several key points:\n",
      "\n",
      "1. **Conduit of Ideas**: Pens have historically been the primary tool for recording and sharing ideas, facilitating the flow of knowledge and information.\n",
      "\n",
      "2. **Cultural Significance**: Pens have shaped cultures and civilizations, from ancient Egyptians using reed pens for hieroglyphics to monks in the Middle Ages using quills for manuscripts.\n",
      "\n",
      "3. **Art and Expression**: In many cultures, such as East Asian, pens are used in calligraphy, which is both a revered art form and a spiritual practice.\n",
      "\n",
      "4. **Enduring Relevance**: Despite digital advancements, pens remain relevant due to their unique ability to engage senses and connect the writer more deeply with their words.\n",
      "\n",
      "5. **Cognitive Benefits**: Writing by hand with a pen enhances cognitive processes like comprehension and memory, making it crucial for educational and professional settings.\n",
      "\n",
      "6. **Tactile Experience**: The physical act of writing with a pen on paper provides a sensory experience that digital devices cannot replicate.\n",
      "\n",
      "7. **Slow and Reflective**: Using a pen allows individuals to slow down, fostering a reflective and thoughtful writing process.\n",
      "\n",
      "8. **Personal and Cultural Symbolism**: Pens often carry personal and cultural significance, being passed as heirlooms or gifted during special occasions, symbolizing creativity and intellect.\n",
      "\n",
      "9. **Reliability**: Pens are reliable tools that do not require batteries or electricity, making them handy in various situations.\n",
      "\n",
      "10. **Accessibility**: Pens are generally affordable and accessible to people of all ages and backgrounds, making writing an inclusive activity.\n",
      "\n",
      "11. **Legacy and Tradition**: Pens help preserve the legacy of handwriting and the tradition of personal, handwritten notes, which hold sentimental value in many societies.\n",
      "\n",
      "These points illustrate the multifaceted importance of pens as tools for writing, expression, and cultural heritage.\n"
     ]
    }
   ],
   "source": [
    "print(human_text_response['output'])"
   ]
  },
  {
   "cell_type": "code",
   "execution_count": 7,
   "id": "37ad0282-ea5f-4eff-97a0-1de465d1c73c",
   "metadata": {},
   "outputs": [
    {
     "data": {
      "text/plain": [
       "str"
      ]
     },
     "execution_count": 7,
     "metadata": {},
     "output_type": "execute_result"
    }
   ],
   "source": [
    "type(human_text_response['output'])"
   ]
  },
  {
   "cell_type": "code",
   "execution_count": null,
   "id": "39714365-21a2-49ae-b0d5-896b13607599",
   "metadata": {},
   "outputs": [],
   "source": []
  }
 ],
 "metadata": {
  "kernelspec": {
   "display_name": "Python 3 (ipykernel)",
   "language": "python",
   "name": "python3"
  },
  "language_info": {
   "codemirror_mode": {
    "name": "ipython",
    "version": 3
   },
   "file_extension": ".py",
   "mimetype": "text/x-python",
   "name": "python",
   "nbconvert_exporter": "python",
   "pygments_lexer": "ipython3",
   "version": "3.11.4"
  }
 },
 "nbformat": 4,
 "nbformat_minor": 5
}
