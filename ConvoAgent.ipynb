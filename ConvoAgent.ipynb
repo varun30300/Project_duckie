{
 "cells": [
  {
   "cell_type": "code",
   "execution_count": 7,
   "id": "895a0320-e122-468d-a98a-602ed45d9354",
   "metadata": {},
   "outputs": [],
   "source": [
    "from langchain_core.prompts import ChatPromptTemplate\n",
    "from langchain.agents import create_tool_calling_agent\n",
    "from langchain.agents import AgentExecutor"
   ]
  },
  {
   "cell_type": "code",
   "execution_count": 9,
   "id": "0fde8988-7211-4180-bdb6-f765b586186f",
   "metadata": {},
   "outputs": [
    {
     "name": "stderr",
     "output_type": "stream",
     "text": [
      "100%|████████████████████████████████████████████████████████████████████████████████████| 1/1 [00:03<00:00,  3.40s/it]\n"
     ]
    },
    {
     "name": "stdout",
     "output_type": "stream",
     "text": [
      "Number of files are : 1\n"
     ]
    }
   ],
   "source": [
    "%run Toolkit.ipynb"
   ]
  },
  {
   "cell_type": "code",
   "execution_count": 10,
   "id": "68b36da9-f048-47dc-825c-80a34dd904af",
   "metadata": {},
   "outputs": [],
   "source": [
    "def convoAgent(human_text, verbose):\n",
    "    # return (\"Initialting Convo Agent\")\n",
    "    prompt = ChatPromptTemplate.from_messages(\n",
    "        [\n",
    "            (\"system\", \"You are an AI assistent who helps student study, student may ask you questions or ask you to perform actions. When asked a question, you are only allowed to answer using the tools given. You are not allowed to answer any question outside the scope of your tools. In case someone asks a question you cannot answer then simply respond by telling them that.\"),\n",
    "            (\"placeholder\", \"{chat_history}\"),\n",
    "            (\"human\", \"{input}\"),\n",
    "            (\"placeholder\", \"{agent_scratchpad}\"),\n",
    "        ]\n",
    "    )\n",
    "    agent = create_tool_calling_agent(chat_model, tools, prompt)\n",
    "    \n",
    "    if verbose :  \n",
    "        agent_executor = AgentExecutor(agent=agent, tools=tools, verbose=True)\n",
    "    else : \n",
    "        agent_executor = AgentExecutor(agent=agent, tools=tools, verbose=False)\n",
    "    result = agent_executor.invoke({\"input\": human_text})\n",
    "    return result"
   ]
  },
  {
   "cell_type": "code",
   "execution_count": null,
   "id": "55afa7bf-6ae5-4ed2-ae05-1acb4bd28159",
   "metadata": {},
   "outputs": [],
   "source": []
  }
 ],
 "metadata": {
  "kernelspec": {
   "display_name": "Python 3 (ipykernel)",
   "language": "python",
   "name": "python3"
  },
  "language_info": {
   "codemirror_mode": {
    "name": "ipython",
    "version": 3
   },
   "file_extension": ".py",
   "mimetype": "text/x-python",
   "name": "python",
   "nbconvert_exporter": "python",
   "pygments_lexer": "ipython3",
   "version": "3.11.4"
  }
 },
 "nbformat": 4,
 "nbformat_minor": 5
}
