{
 "cells": [
  {
   "cell_type": "code",
   "execution_count": 2,
   "id": "5b6b2664-80b7-424f-8787-24ca6cdca024",
   "metadata": {},
   "outputs": [],
   "source": [
    "from langchain_community.document_loaders import DirectoryLoader\n",
    "from langchain_text_splitters import RecursiveCharacterTextSplitter\n",
    "from langchain_community.vectorstores import FAISS\n",
    "from langchain_openai import OpenAIEmbeddings"
   ]
  },
  {
   "cell_type": "code",
   "execution_count": 11,
   "id": "0dfbb086-d90d-4f1a-aa1b-cf5f9b17ba13",
   "metadata": {},
   "outputs": [
    {
     "name": "stderr",
     "output_type": "stream",
     "text": [
      "100%|████████████████████████████████████████████████████████████████████████████████████| 2/2 [00:00<00:00, 63.83it/s]\n"
     ]
    },
    {
     "name": "stdout",
     "output_type": "stream",
     "text": [
      "Number of file/s : 2\n",
      "File 1 - magnets.txt\n",
      "File 2 - pens.txt\n"
     ]
    }
   ],
   "source": [
    "loader = DirectoryLoader('./duckie_knowledge', glob=\"*.txt\" ,show_progress=True, use_multithreading=True) # only reads txt files \n",
    "docs = loader.load()\n",
    "print(\"Number of file/s :\",len(docs))\n",
    "x = 1\n",
    "for doc in docs : \n",
    "    print(\"File\",x,\"-\",doc.metadata['source'].split(\"\\\\\")[-1])\n",
    "    x+=1\n",
    "documents = RecursiveCharacterTextSplitter(\n",
    "    chunk_size=1000, chunk_overlap=200\n",
    ").split_documents(docs)\n",
    "\n",
    "vector = FAISS.from_documents(documents, OpenAIEmbeddings())\n",
    "retriever = vector.as_retriever()"
   ]
  },
  {
   "cell_type": "code",
   "execution_count": null,
   "id": "47220fca-69ec-47f9-bafe-ee783e1a04dc",
   "metadata": {},
   "outputs": [],
   "source": []
  }
 ],
 "metadata": {
  "kernelspec": {
   "display_name": "Python 3 (ipykernel)",
   "language": "python",
   "name": "python3"
  },
  "language_info": {
   "codemirror_mode": {
    "name": "ipython",
    "version": 3
   },
   "file_extension": ".py",
   "mimetype": "text/x-python",
   "name": "python",
   "nbconvert_exporter": "python",
   "pygments_lexer": "ipython3",
   "version": "3.11.4"
  }
 },
 "nbformat": 4,
 "nbformat_minor": 5
}
