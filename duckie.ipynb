{
 "cells": [
  {
   "cell_type": "code",
   "execution_count": 1,
   "id": "f89c02c3-f325-44bf-8522-521aef17cde6",
   "metadata": {},
   "outputs": [],
   "source": [
    "# Loading getAIResponse\n",
    "%run AIResponse.ipynb\n",
    "%run Imports.ipynb"
   ]
  },
  {
   "cell_type": "code",
   "execution_count": 2,
   "id": "cf470343-dd63-4b04-82f7-6bdbb1610ee4",
   "metadata": {},
   "outputs": [],
   "source": [
    "from langchain_openai import ChatOpenAI\n",
    "chat_model = ChatOpenAI(model = \"gpt-4-turbo\")"
   ]
  },
  {
   "cell_type": "code",
   "execution_count": 3,
   "id": "68776bee-ed89-465f-932d-c7a54796383d",
   "metadata": {},
   "outputs": [],
   "source": [
    "# Give me 10 flashcards on the topic pens "
   ]
  },
  {
   "cell_type": "code",
   "execution_count": 13,
   "id": "af3756be-a7ff-4869-b4c2-5fa9a2660fd8",
   "metadata": {},
   "outputs": [
    {
     "name": "stdin",
     "output_type": "stream",
     "text": [
      "Human Text : Can you give me 5 flashcard to help me revise pens \n"
     ]
    }
   ],
   "source": [
    "human_text = input(\"Human Text :\")"
   ]
  },
  {
   "cell_type": "code",
   "execution_count": 14,
   "id": "627663b5-0a20-429b-b254-77db574c9823",
   "metadata": {},
   "outputs": [
    {
     "name": "stdout",
     "output_type": "stream",
     "text": [
      "classifyHumanTextType return ==  content='CreateFlashCards' response_metadata={'token_usage': {'completion_tokens': 3, 'prompt_tokens': 298, 'total_tokens': 301}, 'model_name': 'gpt-4-turbo', 'system_fingerprint': 'fp_294de9593d', 'finish_reason': 'stop', 'logprobs': None} id='run-685bfe92-df5d-4c7b-9552-f2a8cde67d1e-0'\n"
     ]
    },
    {
     "name": "stderr",
     "output_type": "stream",
     "text": [
      "100%|████████████████████████████████████████████████████████████████████████████████████| 2/2 [00:00<00:00, 39.02it/s]\n"
     ]
    },
    {
     "name": "stdout",
     "output_type": "stream",
     "text": [
      "Number of file/s : 2\n",
      "File 1 - magnets.txt\n",
      "File 2 - pens.txt\n",
      "\n",
      "\n",
      "\u001b[1m> Entering new AgentExecutor chain...\u001b[0m\n",
      "\u001b[32;1m\u001b[1;3m\u001b[0m\u001b[36;1m\u001b[1;3mConclusion: In conclusion, pens are more than mere writing instruments; they are symbols of human ingenuity, creativity, and cultural heritage. From ancient times to the present day, pens have endured as steadfast companions on humanity's journey of discovery and expression. As we navigate an ever-changing world, let us not forget the timeless elegance of pens and the profound impact they continue to have on our lives. In an age of rapid technological advancement, may we continue to cherish the simple pleasure of putting pen to paper and letting our thoughts flow freely.\n",
      "\n",
      "Cultural Significance: Pens have played a central role in shaping cultures and civilizations across the globe. In ancient Egypt, scribes meticulously inscribed hieroglyphics on scrolls using reed pens, while medieval monks painstakingly copied manuscripts with quills. In East Asian cultures, calligraphy with brush pens is revered as both an art form and a spiritual practice. Even today, pens are often imbued with personal and cultural significance, passed down as heirlooms or gifted on special occasions. They symbolize creativity, intellect, and the power of written expression, transcending linguistic and cultural barriers.\n",
      "\n",
      "Title: The Timeless Elegance of Pens: A Tribute to an Iconic Writing Instrument\n",
      "\n",
      "Introduction: Pens, humble yet indispensable, have been the silent companions of humanity's journey through history. From ancient civilizations etching symbols on papyrus to modern scholars jotting down notes in digital notebooks, pens have been the conduit through which ideas flow and knowledge is preserved. In this essay, we delve into the enduring significance of pens, exploring their evolution, cultural impact, and enduring relevance in an increasingly digital world.\n",
      "\n",
      "Evolution of Pens: The evolution of pens mirrors the progression of human civilization itself. From primitive instruments like reed pens and quills to the sophisticated ballpoint and fountain pens of today, each iteration represents a leap in technological advancement and craftsmanship. The invention of the ballpoint pen in the 20th century revolutionized writing, offering a convenient and reliable tool for millions worldwide. Yet, despite the proliferation of digital devices, pens continue to hold a special place in the hearts of many, cherished for their simplicity and elegance.\u001b[0m\u001b[32;1m\u001b[1;3m```json\n",
      "{\n",
      "  \"flashcards\": [\n",
      "    {\n",
      "      \"front\": \"What is the historical significance of pens?\",\n",
      "      \"back\": \"Pens have been essential in shaping cultures and civilizations. From ancient Egypt where scribes used reed pens, to medieval monks with quills, and East Asian calligraphy, pens have been central to cultural expression and preservation.\"\n",
      "    },\n",
      "    {\n",
      "      \"front\": \"How have pens evolved over time?\",\n",
      "      \"back\": \"Pens have evolved from primitive reed pens and quills to sophisticated ballpoint and fountain pens. Each development reflects technological progress and enhanced craftsmanship, with the ballpoint pen revolutionizing writing in the 20th century.\"\n",
      "    },\n",
      "    {\n",
      "      \"front\": \"What role do pens play in modern society?\",\n",
      "      \"back\": \"Despite the rise of digital technology, pens remain cherished for their simplicity and tactile sensation. They are often considered symbols of creativity and intellect, and are used in various cultural and personal contexts.\"\n",
      "    },\n",
      "    {\n",
      "      \"front\": \"What are some examples of pens being used as cultural symbols?\",\n",
      "      \"back\": \"Pens are often passed down as heirlooms or gifted during special occasions, symbolizing creativity and intellect. They transcend linguistic and cultural barriers, and are integral in practices like East Asian calligraphy.\"\n",
      "    },\n",
      "    {\n",
      "      \"front\": \"Why are pens considered timeless despite technological advances?\",\n",
      "      \"back\": \"Pens embody the elegance of manual writing and the joy of seeing thoughts materialize on paper. They connect us to a long history of human expression and are valued for their role in personal and cultural identity.\"\n",
      "    }\n",
      "  ],\n",
      "  \"note\": \"If you need more flashcards or specific topics covered, please specify the exact number and details.\"\n",
      "}\n",
      "```\u001b[0m\n",
      "\n",
      "\u001b[1m> Finished chain.\u001b[0m\n"
     ]
    }
   ],
   "source": [
    "human_text_response = getAIResponse(human_text, True)"
   ]
  },
  {
   "cell_type": "code",
   "execution_count": 15,
   "id": "ebb40430-11b3-4d39-af10-b3cad58573e2",
   "metadata": {},
   "outputs": [
    {
     "name": "stdout",
     "output_type": "stream",
     "text": [
      "```json\n",
      "{\n",
      "  \"flashcards\": [\n",
      "    {\n",
      "      \"front\": \"What is the historical significance of pens?\",\n",
      "      \"back\": \"Pens have been essential in shaping cultures and civilizations. From ancient Egypt where scribes used reed pens, to medieval monks with quills, and East Asian calligraphy, pens have been central to cultural expression and preservation.\"\n",
      "    },\n",
      "    {\n",
      "      \"front\": \"How have pens evolved over time?\",\n",
      "      \"back\": \"Pens have evolved from primitive reed pens and quills to sophisticated ballpoint and fountain pens. Each development reflects technological progress and enhanced craftsmanship, with the ballpoint pen revolutionizing writing in the 20th century.\"\n",
      "    },\n",
      "    {\n",
      "      \"front\": \"What role do pens play in modern society?\",\n",
      "      \"back\": \"Despite the rise of digital technology, pens remain cherished for their simplicity and tactile sensation. They are often considered symbols of creativity and intellect, and are used in various cultural and personal contexts.\"\n",
      "    },\n",
      "    {\n",
      "      \"front\": \"What are some examples of pens being used as cultural symbols?\",\n",
      "      \"back\": \"Pens are often passed down as heirlooms or gifted during special occasions, symbolizing creativity and intellect. They transcend linguistic and cultural barriers, and are integral in practices like East Asian calligraphy.\"\n",
      "    },\n",
      "    {\n",
      "      \"front\": \"Why are pens considered timeless despite technological advances?\",\n",
      "      \"back\": \"Pens embody the elegance of manual writing and the joy of seeing thoughts materialize on paper. They connect us to a long history of human expression and are valued for their role in personal and cultural identity.\"\n",
      "    }\n",
      "  ],\n",
      "  \"note\": \"If you need more flashcards or specific topics covered, please specify the exact number and details.\"\n",
      "}\n",
      "```\n"
     ]
    }
   ],
   "source": [
    "print(human_text_response['output'])"
   ]
  },
  {
   "cell_type": "code",
   "execution_count": 33,
   "id": "37ad0282-ea5f-4eff-97a0-1de465d1c73c",
   "metadata": {},
   "outputs": [
    {
     "data": {
      "text/plain": [
       "str"
      ]
     },
     "execution_count": 33,
     "metadata": {},
     "output_type": "execute_result"
    }
   ],
   "source": [
    "type(human_text_response['output'])"
   ]
  },
  {
   "cell_type": "code",
   "execution_count": null,
   "id": "39714365-21a2-49ae-b0d5-896b13607599",
   "metadata": {},
   "outputs": [],
   "source": []
  }
 ],
 "metadata": {
  "kernelspec": {
   "display_name": "Python 3 (ipykernel)",
   "language": "python",
   "name": "python3"
  },
  "language_info": {
   "codemirror_mode": {
    "name": "ipython",
    "version": 3
   },
   "file_extension": ".py",
   "mimetype": "text/x-python",
   "name": "python",
   "nbconvert_exporter": "python",
   "pygments_lexer": "ipython3",
   "version": "3.11.4"
  }
 },
 "nbformat": 4,
 "nbformat_minor": 5
}
